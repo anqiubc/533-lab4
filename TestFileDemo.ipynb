{
 "cells": [
  {
   "cell_type": "markdown",
   "id": "5e6280ed-8cbf-4ddd-b507-c6973c1911ac",
   "metadata": {},
   "source": [
    "# DATA 533 - Lab 2 - Hotel Package Test Demo"
   ]
  },
  {
   "cell_type": "markdown",
   "id": "d39e7e82-7bab-4a2b-b77b-c59cf38fc845",
   "metadata": {},
   "source": [
    "The following test code demonstrates how the Hotel Package works."
   ]
  },
  {
   "cell_type": "markdown",
   "id": "b93fe061-7496-4585-b597-083e7a043c02",
   "metadata": {},
   "source": [
    "### 1. Service"
   ]
  },
  {
   "cell_type": "markdown",
   "id": "6942422b-bf2d-44ff-8e3b-2cf53fdc158d",
   "metadata": {},
   "source": [
    "##### a. Room"
   ]
  },
  {
   "cell_type": "markdown",
   "id": "ec8029b2-b25b-4e5d-9f85-9f23a8e0b9d2",
   "metadata": {},
   "source": [
    "The Room module contains Room class that is used to manage all the rooms in the hotel. It has several methods such as **modifyprice** that will replace the old hotel room price with the new inputted hotel room price (say, during holiday the room price will increase), **discountprice** will modify the old room price by a percentage when a customer use a discount code, **reduceroomnumber** will reduce the number of rooms available when a customer checks into a room, **addroomnumber** will increase the number of room available when a customer checks out from a room, and **display** will display the room information as shown below in the example below."
   ]
  },
  {
   "cell_type": "code",
   "execution_count": 5,
   "id": "856a1fee-5061-465c-8d49-e5fffaaa9321",
   "metadata": {},
   "outputs": [
    {
     "data": {
      "text/plain": [
       "'Price:150 Availablenumber:100'"
      ]
     },
     "execution_count": 5,
     "metadata": {},
     "output_type": "execute_result"
    }
   ],
   "source": [
    "import Hotel.Service.room as room\n",
    "\n",
    "room1=room.Room(150,100)\n",
    "room1.display()"
   ]
  },
  {
   "cell_type": "code",
   "execution_count": 6,
   "id": "1e63f39d-00c0-42f8-ae7f-7dedbccaf85b",
   "metadata": {},
   "outputs": [
    {
     "data": {
      "text/plain": [
       "'Price:120 Availablenumber:100'"
      ]
     },
     "execution_count": 6,
     "metadata": {},
     "output_type": "execute_result"
    }
   ],
   "source": [
    "room1.modifyprice(120)\n",
    "room1.display()"
   ]
  },
  {
   "cell_type": "code",
   "execution_count": 7,
   "id": "c137265a-d188-423c-a5c9-4fe60645cbe2",
   "metadata": {},
   "outputs": [
    {
     "data": {
      "text/plain": [
       "'Price:96.0 Availablenumber:100'"
      ]
     },
     "execution_count": 7,
     "metadata": {},
     "output_type": "execute_result"
    }
   ],
   "source": [
    "room1.discountprice(0.8)\n",
    "room1.display()"
   ]
  },
  {
   "cell_type": "code",
   "execution_count": 8,
   "id": "966d19d0-edfa-44da-9ec4-b8ab0cd7407a",
   "metadata": {},
   "outputs": [
    {
     "name": "stdout",
     "output_type": "stream",
     "text": [
      "discount can't be negative\n"
     ]
    },
    {
     "ename": "NegativeDiscount",
     "evalue": "",
     "output_type": "error",
     "traceback": [
      "\u001b[1;31m---------------------------------------------------------------------------\u001b[0m",
      "\u001b[1;31mNegativeDiscount\u001b[0m                          Traceback (most recent call last)",
      "\u001b[1;32m~\\AppData\\Local\\Temp/ipykernel_27204/1621039256.py\u001b[0m in \u001b[0;36m<module>\u001b[1;34m\u001b[0m\n\u001b[1;32m----> 1\u001b[1;33m \u001b[0mroom1\u001b[0m\u001b[1;33m.\u001b[0m\u001b[0mdiscountprice\u001b[0m\u001b[1;33m(\u001b[0m\u001b[1;33m-\u001b[0m\u001b[1;36m0.8\u001b[0m\u001b[1;33m)\u001b[0m \u001b[1;31m# will print \"discount can't be negative\" and keep the current room price\u001b[0m\u001b[1;33m\u001b[0m\u001b[1;33m\u001b[0m\u001b[0m\n\u001b[0m\u001b[0;32m      2\u001b[0m \u001b[0mroom1\u001b[0m\u001b[1;33m.\u001b[0m\u001b[0mdisplay\u001b[0m\u001b[1;33m(\u001b[0m\u001b[1;33m)\u001b[0m\u001b[1;33m\u001b[0m\u001b[1;33m\u001b[0m\u001b[0m\n",
      "\u001b[1;32m~\\UBC MDS\\Block 3\\DATA 533\\Lab 4\\533-lab4\\Hotel\\Service\\room.py\u001b[0m in \u001b[0;36mdiscountprice\u001b[1;34m(self, discount)\u001b[0m\n\u001b[0;32m     17\u001b[0m     \u001b[1;32mdef\u001b[0m \u001b[0mdiscountprice\u001b[0m\u001b[1;33m(\u001b[0m\u001b[0mself\u001b[0m\u001b[1;33m,\u001b[0m \u001b[0mdiscount\u001b[0m\u001b[1;33m=\u001b[0m\u001b[1;36m1\u001b[0m\u001b[1;33m)\u001b[0m\u001b[1;33m:\u001b[0m\u001b[1;33m\u001b[0m\u001b[1;33m\u001b[0m\u001b[0m\n\u001b[0;32m     18\u001b[0m         \u001b[1;32mif\u001b[0m \u001b[0mdiscount\u001b[0m \u001b[1;33m<\u001b[0m \u001b[1;36m0\u001b[0m\u001b[1;33m:\u001b[0m\u001b[1;33m\u001b[0m\u001b[1;33m\u001b[0m\u001b[0m\n\u001b[1;32m---> 19\u001b[1;33m             \u001b[1;32mraise\u001b[0m \u001b[0mNegativeDiscount\u001b[0m\u001b[1;33m\u001b[0m\u001b[1;33m\u001b[0m\u001b[0m\n\u001b[0m\u001b[0;32m     20\u001b[0m         \u001b[0mself\u001b[0m\u001b[1;33m.\u001b[0m\u001b[0mprice\u001b[0m\u001b[1;33m*=\u001b[0m\u001b[0mdiscount\u001b[0m\u001b[1;33m\u001b[0m\u001b[1;33m\u001b[0m\u001b[0m\n\u001b[0;32m     21\u001b[0m \u001b[1;33m\u001b[0m\u001b[0m\n",
      "\u001b[1;31mNegativeDiscount\u001b[0m: "
     ]
    }
   ],
   "source": [
    "room1.discountprice(-0.8) # will print \"discount can't be negative\" and keep the current room price\n",
    "room1.display()"
   ]
  },
  {
   "cell_type": "code",
   "execution_count": 9,
   "id": "4dd6da25-6bff-4394-893e-7e0dcf51585e",
   "metadata": {},
   "outputs": [
    {
     "data": {
      "text/plain": [
       "'Price:96.0 Availablenumber:88'"
      ]
     },
     "execution_count": 9,
     "metadata": {},
     "output_type": "execute_result"
    }
   ],
   "source": [
    "room1.reduceroomnumber(12)\n",
    "room1.display()"
   ]
  },
  {
   "cell_type": "code",
   "execution_count": 10,
   "id": "b078a16f-0064-4111-8f93-93bcedc47004",
   "metadata": {},
   "outputs": [
    {
     "name": "stdout",
     "output_type": "stream",
     "text": [
      "not enough available room(s)\n"
     ]
    },
    {
     "ename": "NegativeRoom",
     "evalue": "",
     "output_type": "error",
     "traceback": [
      "\u001b[1;31m---------------------------------------------------------------------------\u001b[0m",
      "\u001b[1;31mNegativeRoom\u001b[0m                              Traceback (most recent call last)",
      "\u001b[1;32m~\\AppData\\Local\\Temp/ipykernel_27204/878486052.py\u001b[0m in \u001b[0;36m<module>\u001b[1;34m\u001b[0m\n\u001b[1;32m----> 1\u001b[1;33m \u001b[0mroom1\u001b[0m\u001b[1;33m.\u001b[0m\u001b[0mreduceroomnumber\u001b[0m\u001b[1;33m(\u001b[0m\u001b[1;36m200\u001b[0m\u001b[1;33m)\u001b[0m \u001b[1;31m# will print \"not enough available room(s)\" and keep the current room number\u001b[0m\u001b[1;33m\u001b[0m\u001b[1;33m\u001b[0m\u001b[0m\n\u001b[0m\u001b[0;32m      2\u001b[0m \u001b[0mroom1\u001b[0m\u001b[1;33m.\u001b[0m\u001b[0mdisplay\u001b[0m\u001b[1;33m(\u001b[0m\u001b[1;33m)\u001b[0m\u001b[1;33m\u001b[0m\u001b[1;33m\u001b[0m\u001b[0m\n",
      "\u001b[1;32m~\\UBC MDS\\Block 3\\DATA 533\\Lab 4\\533-lab4\\Hotel\\Service\\room.py\u001b[0m in \u001b[0;36mreduceroomnumber\u001b[1;34m(self, reduceamount)\u001b[0m\n\u001b[0;32m     22\u001b[0m     \u001b[1;32mdef\u001b[0m \u001b[0mreduceroomnumber\u001b[0m\u001b[1;33m(\u001b[0m\u001b[0mself\u001b[0m\u001b[1;33m,\u001b[0m\u001b[0mreduceamount\u001b[0m\u001b[1;33m)\u001b[0m\u001b[1;33m:\u001b[0m\u001b[1;33m\u001b[0m\u001b[1;33m\u001b[0m\u001b[0m\n\u001b[0;32m     23\u001b[0m         \u001b[1;32mif\u001b[0m \u001b[0mreduceamount\u001b[0m \u001b[1;33m>\u001b[0m \u001b[0mself\u001b[0m\u001b[1;33m.\u001b[0m\u001b[0mavailablenumber\u001b[0m\u001b[1;33m:\u001b[0m\u001b[1;33m\u001b[0m\u001b[1;33m\u001b[0m\u001b[0m\n\u001b[1;32m---> 24\u001b[1;33m             \u001b[1;32mraise\u001b[0m \u001b[0mNegativeRoom\u001b[0m\u001b[1;33m\u001b[0m\u001b[1;33m\u001b[0m\u001b[0m\n\u001b[0m\u001b[0;32m     25\u001b[0m         \u001b[0mself\u001b[0m\u001b[1;33m.\u001b[0m\u001b[0mavailablenumber\u001b[0m\u001b[1;33m-=\u001b[0m\u001b[0mreduceamount\u001b[0m\u001b[1;33m\u001b[0m\u001b[1;33m\u001b[0m\u001b[0m\n\u001b[0;32m     26\u001b[0m \u001b[1;33m\u001b[0m\u001b[0m\n",
      "\u001b[1;31mNegativeRoom\u001b[0m: "
     ]
    }
   ],
   "source": [
    "room1.reduceroomnumber(200) # will print \"not enough available room(s)\" and keep the current room number\n",
    "room1.display()"
   ]
  },
  {
   "cell_type": "code",
   "execution_count": 11,
   "id": "8d1dcb20-aec6-4e6c-87e7-02dcc41ef58e",
   "metadata": {},
   "outputs": [
    {
     "data": {
      "text/plain": [
       "'Price:96.0 Availablenumber:96'"
      ]
     },
     "execution_count": 11,
     "metadata": {},
     "output_type": "execute_result"
    }
   ],
   "source": [
    "room1.addroomnumber(8)\n",
    "room1.display()"
   ]
  },
  {
   "cell_type": "markdown",
   "id": "b9bd9eee-7ea5-4625-bfcd-8a35b99431d7",
   "metadata": {},
   "source": [
    "##### b. Restaurant"
   ]
  },
  {
   "cell_type": "markdown",
   "id": "a825a3ac-44fb-4b2d-a9a3-93894c7a4a1e",
   "metadata": {},
   "source": [
    "The Restaurant module contains Restaurant class that is used to create instances of the restaurant menu and employee. It has several methods such as **add food** that will add food into the restaurant menu, **add employee** if a new employee starts to work at the restaurant, and **display** that can display the restaurant menu and its working employees. "
   ]
  },
  {
   "cell_type": "code",
   "execution_count": 8,
   "id": "0ed22c9d-8deb-43c3-aaaa-adbacee0ab3b",
   "metadata": {},
   "outputs": [
    {
     "name": "stdout",
     "output_type": "stream",
     "text": [
      "Menu Price\n",
      " NAN   NAN\n",
      "\n",
      "Employee\n",
      "     NAN\n"
     ]
    }
   ],
   "source": [
    "import Hotel.Service.restaurant as restaurant\n",
    "\n",
    "restaurant=restaurant.Restaurant()\n",
    "print(restaurant.display())"
   ]
  },
  {
   "cell_type": "code",
   "execution_count": 9,
   "id": "c3155d24-aeb5-4bff-a95e-d1434db40de1",
   "metadata": {},
   "outputs": [
    {
     "name": "stdout",
     "output_type": "stream",
     "text": [
      "      Menu  Price\n",
      "applejuice      3\n",
      "\n",
      "Employee\n",
      "     NAN\n"
     ]
    }
   ],
   "source": [
    "restaurant.addfood(\"applejuice\",3)\n",
    "print(restaurant.display())"
   ]
  },
  {
   "cell_type": "code",
   "execution_count": 10,
   "id": "e6e7002f-42f9-49b0-aad8-f5c94d04c961",
   "metadata": {},
   "outputs": [
    {
     "name": "stdout",
     "output_type": "stream",
     "text": [
      "      Menu  Price\n",
      "applejuice    3.0\n",
      "     sushi    5.5\n",
      "\n",
      "Employee\n",
      "     NAN\n"
     ]
    }
   ],
   "source": [
    "restaurant.addfood(\"sushi\",5.5)\n",
    "print(restaurant.display())"
   ]
  },
  {
   "cell_type": "code",
   "execution_count": 11,
   "id": "9b12e810-fcdc-46b4-80ba-498233da67e0",
   "metadata": {},
   "outputs": [
    {
     "name": "stdout",
     "output_type": "stream",
     "text": [
      "      Menu  Price\n",
      "applejuice    3.0\n",
      "     sushi    5.5\n",
      "\n",
      "Employee\n",
      "     Can\n"
     ]
    }
   ],
   "source": [
    "restaurant.addemployee(\"Can\")\n",
    "print(restaurant.display())"
   ]
  },
  {
   "cell_type": "markdown",
   "id": "f147823d-ec43-408e-9cc8-18fc7358007c",
   "metadata": {},
   "source": [
    "##### c. Swimming Pool"
   ]
  },
  {
   "cell_type": "markdown",
   "id": "ff852540-ef06-4d14-b4b0-33dfd370a59d",
   "metadata": {},
   "source": [
    "The swimming pool class is for managing the swimming pool for children in the hotel. It contains the **modifyprice** function to directly change the price of the entrance ticket to the swimming pool, a **discountprice** function to offer the discount price with the given discount rate, and a **display** function to show the price attribute."
   ]
  },
  {
   "cell_type": "code",
   "execution_count": 14,
   "id": "9fd70140-1036-406b-bccb-fa43808bf697",
   "metadata": {},
   "outputs": [
    {
     "data": {
      "text/plain": [
       "'Swimming pool ticket price:12'"
      ]
     },
     "execution_count": 14,
     "metadata": {},
     "output_type": "execute_result"
    }
   ],
   "source": [
    "import Hotel.Service.swimming_pool as swimming_pool\n",
    "\n",
    "pool=swimming_pool.swimming_pool(12)\n",
    "pool.display()"
   ]
  },
  {
   "cell_type": "code",
   "execution_count": 15,
   "id": "40acbd36-a89d-4722-887d-bb7e4c78c850",
   "metadata": {},
   "outputs": [
    {
     "data": {
      "text/plain": [
       "'Swimming pool ticket price:20'"
      ]
     },
     "execution_count": 15,
     "metadata": {},
     "output_type": "execute_result"
    }
   ],
   "source": [
    "pool.modifyprice(20)\n",
    "pool.display()"
   ]
  },
  {
   "cell_type": "code",
   "execution_count": 16,
   "id": "0c5dcb15-4bf8-4879-9331-3a00de281edd",
   "metadata": {},
   "outputs": [
    {
     "data": {
      "text/plain": [
       "'Swimming pool ticket price:10.0'"
      ]
     },
     "execution_count": 16,
     "metadata": {},
     "output_type": "execute_result"
    }
   ],
   "source": [
    "pool.discountprice(0.5)\n",
    "pool.display()"
   ]
  },
  {
   "cell_type": "code",
   "execution_count": 17,
   "id": "cc319744-7640-4127-aa5b-aff5191fd621",
   "metadata": {},
   "outputs": [
    {
     "name": "stdout",
     "output_type": "stream",
     "text": [
      "discount can't be negative\n"
     ]
    },
    {
     "ename": "NegativeDiscount",
     "evalue": "",
     "output_type": "error",
     "traceback": [
      "\u001b[1;31m---------------------------------------------------------------------------\u001b[0m",
      "\u001b[1;31mNegativeDiscount\u001b[0m                          Traceback (most recent call last)",
      "\u001b[1;32m~\\AppData\\Local\\Temp/ipykernel_27204/3204830864.py\u001b[0m in \u001b[0;36m<module>\u001b[1;34m\u001b[0m\n\u001b[1;32m----> 1\u001b[1;33m \u001b[0mpool\u001b[0m\u001b[1;33m.\u001b[0m\u001b[0mdiscountprice\u001b[0m\u001b[1;33m(\u001b[0m\u001b[1;33m-\u001b[0m\u001b[1;36m0.5\u001b[0m\u001b[1;33m)\u001b[0m\u001b[1;33m\u001b[0m\u001b[1;33m\u001b[0m\u001b[0m\n\u001b[0m\u001b[0;32m      2\u001b[0m \u001b[0mpool\u001b[0m\u001b[1;33m.\u001b[0m\u001b[0mdisplay\u001b[0m\u001b[1;33m(\u001b[0m\u001b[1;33m)\u001b[0m\u001b[1;33m\u001b[0m\u001b[1;33m\u001b[0m\u001b[0m\n",
      "\u001b[1;32m~\\UBC MDS\\Block 3\\DATA 533\\Lab 4\\533-lab4\\Hotel\\Service\\swimming_pool.py\u001b[0m in \u001b[0;36mdiscountprice\u001b[1;34m(self, discount)\u001b[0m\n\u001b[0;32m     12\u001b[0m     \u001b[1;32mdef\u001b[0m \u001b[0mdiscountprice\u001b[0m\u001b[1;33m(\u001b[0m\u001b[0mself\u001b[0m\u001b[1;33m,\u001b[0m \u001b[0mdiscount\u001b[0m\u001b[1;33m=\u001b[0m\u001b[1;36m1\u001b[0m\u001b[1;33m)\u001b[0m\u001b[1;33m:\u001b[0m\u001b[1;33m\u001b[0m\u001b[1;33m\u001b[0m\u001b[0m\n\u001b[0;32m     13\u001b[0m         \u001b[1;32mif\u001b[0m \u001b[0mdiscount\u001b[0m \u001b[1;33m<\u001b[0m \u001b[1;36m0\u001b[0m\u001b[1;33m:\u001b[0m\u001b[1;33m\u001b[0m\u001b[1;33m\u001b[0m\u001b[0m\n\u001b[1;32m---> 14\u001b[1;33m             \u001b[1;32mraise\u001b[0m \u001b[0mNegativeDiscount\u001b[0m\u001b[1;33m\u001b[0m\u001b[1;33m\u001b[0m\u001b[0m\n\u001b[0m\u001b[0;32m     15\u001b[0m         \u001b[0mself\u001b[0m\u001b[1;33m.\u001b[0m\u001b[0mprice\u001b[0m\u001b[1;33m*=\u001b[0m\u001b[0mdiscount\u001b[0m\u001b[1;33m\u001b[0m\u001b[1;33m\u001b[0m\u001b[0m\n\u001b[0;32m     16\u001b[0m \u001b[1;33m\u001b[0m\u001b[0m\n",
      "\u001b[1;31mNegativeDiscount\u001b[0m: "
     ]
    }
   ],
   "source": [
    "pool.discountprice(-0.5)\n",
    "pool.display()"
   ]
  },
  {
   "cell_type": "markdown",
   "id": "85d75ef1-7829-469d-8b20-3020d07468e4",
   "metadata": {},
   "source": [
    "### 2. Person"
   ]
  },
  {
   "cell_type": "markdown",
   "id": "c96dc4ce-abbc-43d8-bf2c-016ec4a2e013",
   "metadata": {},
   "source": [
    "##### a. Employee"
   ]
  },
  {
   "cell_type": "markdown",
   "id": "72711a77-d261-49c9-816f-418d112b4c9f",
   "metadata": {},
   "source": [
    "The Employee module contains Employee class that is used to manage employees that are working for the hotel. This class have several methods including **add_work_salary** that can be used to add the total salary for an employee by inputting their hourly salary and the number of hours that employee has worked, **add_bonus** will add a bonus (in amount) to an employee's salary, **reduce_salary** can be used to reduce an employee's salary such as when an employee is absent, and **display** which displays the name, age, hourly rate, work hour, and salary of each employee."
   ]
  },
  {
   "cell_type": "code",
   "execution_count": 16,
   "id": "6e0dc26d-9da6-4520-ae60-2e7906a88e30",
   "metadata": {},
   "outputs": [
    {
     "data": {
      "text/plain": [
       "'Name:Can Age:24 Hourlyrate:10 Workhour:0 Salary:0'"
      ]
     },
     "execution_count": 16,
     "metadata": {},
     "output_type": "execute_result"
    }
   ],
   "source": [
    "import Hotel.Person.employee as employee\n",
    "\n",
    "emp1=employee.Employee(\"Can\",24,10)\n",
    "emp1.display()"
   ]
  },
  {
   "cell_type": "code",
   "execution_count": 17,
   "id": "8bedd274-213e-46f0-a5d7-dad3f9f29a58",
   "metadata": {},
   "outputs": [
    {
     "data": {
      "text/plain": [
       "'Name:Can Age:24 Hourlyrate:10 Workhour:15 Salary:150'"
      ]
     },
     "execution_count": 17,
     "metadata": {},
     "output_type": "execute_result"
    }
   ],
   "source": [
    "emp1.add_work_salary(15)#worked 15 hours\n",
    "emp1.display()"
   ]
  },
  {
   "cell_type": "code",
   "execution_count": 18,
   "id": "0a20498c-1eaf-4c84-aa59-871da702e3c7",
   "metadata": {},
   "outputs": [
    {
     "data": {
      "text/plain": [
       "'Name:Can Age:24 Hourlyrate:10 Workhour:15 Salary:250'"
      ]
     },
     "execution_count": 18,
     "metadata": {},
     "output_type": "execute_result"
    }
   ],
   "source": [
    "emp1.add_bonus(100)\n",
    "emp1.display()"
   ]
  },
  {
   "cell_type": "code",
   "execution_count": 19,
   "id": "9df2b422-1ddb-4dd3-854b-317eefa55a66",
   "metadata": {},
   "outputs": [
    {
     "name": "stdout",
     "output_type": "stream",
     "text": [
      "salary can't be negative\n"
     ]
    },
    {
     "data": {
      "text/plain": [
       "'Name:Can Age:24 Hourlyrate:10 Workhour:15 Salary:250'"
      ]
     },
     "execution_count": 19,
     "metadata": {},
     "output_type": "execute_result"
    }
   ],
   "source": [
    "emp1.reduce_salary(500)\n",
    "emp1.display()"
   ]
  },
  {
   "cell_type": "code",
   "execution_count": 20,
   "id": "64794d60-07c6-4833-aea3-a96d15e171a4",
   "metadata": {},
   "outputs": [
    {
     "name": "stdout",
     "output_type": "stream",
     "text": [
      "salary can't be negative\n"
     ]
    },
    {
     "data": {
      "text/plain": [
       "'Name:Can Age:24 Hourlyrate:10 Workhour:15 Salary:250'"
      ]
     },
     "execution_count": 20,
     "metadata": {},
     "output_type": "execute_result"
    }
   ],
   "source": [
    "emp1.reduce_salary(1000)\n",
    "emp1.display()"
   ]
  },
  {
   "cell_type": "markdown",
   "id": "118f15d2-65a3-46d2-913c-736deb282a72",
   "metadata": {},
   "source": [
    "##### b. Customers"
   ]
  },
  {
   "cell_type": "markdown",
   "id": "1fb578fc-8a99-46bb-b51f-e37393f6b741",
   "metadata": {},
   "source": [
    "The Customers module contains the Customer class which manage all the hotel's customers. It has several methods such as **addbill** that will add bill charges to a customer, **reduce_bill** that will reduce a customer's bill amount, and **display** which displays the customer's name, age, duration of stay, and bill amount."
   ]
  },
  {
   "cell_type": "code",
   "execution_count": 21,
   "id": "49ef4ad9-1800-40ca-a7d1-96e72e997136",
   "metadata": {},
   "outputs": [
    {
     "data": {
      "text/plain": [
       "'Name:Evelyn Age:22 Duration:3 bill:20'"
      ]
     },
     "execution_count": 21,
     "metadata": {},
     "output_type": "execute_result"
    }
   ],
   "source": [
    "import Hotel.Person.customers as customers\n",
    "\n",
    "cust1=customers.Customers(\"Evelyn\",22,3)\n",
    "cust1.addbill(20)\n",
    "cust1.display()"
   ]
  },
  {
   "cell_type": "code",
   "execution_count": 22,
   "id": "18e22d97-e728-4996-9fd9-2d043dd4cf84",
   "metadata": {},
   "outputs": [
    {
     "data": {
      "text/plain": [
       "'Name:Evelyn Age:22 Duration:3 bill:120'"
      ]
     },
     "execution_count": 22,
     "metadata": {},
     "output_type": "execute_result"
    }
   ],
   "source": [
    "cust1.addbill(100)\n",
    "cust1.display()"
   ]
  },
  {
   "cell_type": "code",
   "execution_count": 23,
   "id": "55ac1103-98bf-4487-a075-27481988f7c5",
   "metadata": {},
   "outputs": [
    {
     "data": {
      "text/plain": [
       "'Name:Evelyn Age:22 Duration:3 bill:20'"
      ]
     },
     "execution_count": 23,
     "metadata": {},
     "output_type": "execute_result"
    }
   ],
   "source": [
    "cust1.reducebill(100)#cancel the order\n",
    "cust1.display()"
   ]
  },
  {
   "cell_type": "code",
   "execution_count": 24,
   "id": "3261409c-1f61-4d1b-be9f-62edc59e92ee",
   "metadata": {},
   "outputs": [
    {
     "name": "stdout",
     "output_type": "stream",
     "text": [
      "bill can't be negative\n"
     ]
    },
    {
     "data": {
      "text/plain": [
       "'Name:Evelyn Age:22 Duration:3 bill:20'"
      ]
     },
     "execution_count": 24,
     "metadata": {},
     "output_type": "execute_result"
    }
   ],
   "source": [
    "cust1.reducebill(150)#cancel the order\n",
    "cust1.display()"
   ]
  },
  {
   "cell_type": "markdown",
   "id": "f813a26c-d1c7-40c3-be9c-52e38bd61102",
   "metadata": {},
   "source": [
    "##### c. Children"
   ]
  },
  {
   "cell_type": "markdown",
   "id": "0f77fb8f-c567-4fbc-bda5-3782198cd58a",
   "metadata": {},
   "source": [
    "The Children module contains Children class which manage children who are staying at the hotel with their parents (customers). Children class has several methods such as **add_children_pool_time** which will record the number of hours a child is using the pool, **add_bill** which will charge their parent's (customers) bill, **reduce_bill** which will reduce their parent's (customers) bill, and **display** which will display the name, age, duration of stay, bill, and pool time."
   ]
  },
  {
   "cell_type": "code",
   "execution_count": 25,
   "id": "369d82fb-8e4d-4be2-93a6-a416ec045891",
   "metadata": {},
   "outputs": [
    {
     "data": {
      "text/plain": [
       "'Name:Anqi Age:8 Duration:22 bill:10 pooltime:10'"
      ]
     },
     "execution_count": 25,
     "metadata": {},
     "output_type": "execute_result"
    }
   ],
   "source": [
    "import Hotel.Person.children as children\n",
    "\n",
    "child1=children.Children(\"Anqi\",8,22,10)\n",
    "child1.add_children_pool_time(10)\n",
    "child1.display()"
   ]
  },
  {
   "cell_type": "code",
   "execution_count": 26,
   "id": "cb495d06-fe52-452b-a83f-bb3bb9468254",
   "metadata": {},
   "outputs": [
    {
     "data": {
      "text/plain": [
       "'Name:Anqi Age:8 Duration:22 bill:14 pooltime:10'"
      ]
     },
     "execution_count": 26,
     "metadata": {},
     "output_type": "execute_result"
    }
   ],
   "source": [
    "child1.add_bill(4)\n",
    "child1.display()"
   ]
  },
  {
   "cell_type": "code",
   "execution_count": 27,
   "id": "f6124ce3-5409-4cbc-902e-8174ee5b3ec5",
   "metadata": {},
   "outputs": [
    {
     "data": {
      "text/plain": [
       "'Name:Anqi Age:8 Duration:22 bill:10 pooltime:10'"
      ]
     },
     "execution_count": 27,
     "metadata": {},
     "output_type": "execute_result"
    }
   ],
   "source": [
    "child1.reduce_bill(4)\n",
    "child1.display()"
   ]
  },
  {
   "cell_type": "code",
   "execution_count": 28,
   "id": "9e801173-f825-4a83-802b-60257b3630ea",
   "metadata": {},
   "outputs": [
    {
     "name": "stdout",
     "output_type": "stream",
     "text": [
      "bill can't be negative\n"
     ]
    },
    {
     "data": {
      "text/plain": [
       "'Name:Anqi Age:8 Duration:22 bill:10 pooltime:10'"
      ]
     },
     "execution_count": 28,
     "metadata": {},
     "output_type": "execute_result"
    }
   ],
   "source": [
    "child1.reduce_bill(20)\n",
    "child1.display()"
   ]
  },
  {
   "cell_type": "code",
   "execution_count": null,
   "id": "6b5f3c67-c756-4e19-bf78-e412448b137a",
   "metadata": {},
   "outputs": [],
   "source": []
  }
 ],
 "metadata": {
  "kernelspec": {
   "display_name": "Python 3 (ipykernel)",
   "language": "python",
   "name": "python3"
  },
  "language_info": {
   "codemirror_mode": {
    "name": "ipython",
    "version": 3
   },
   "file_extension": ".py",
   "mimetype": "text/x-python",
   "name": "python",
   "nbconvert_exporter": "python",
   "pygments_lexer": "ipython3",
   "version": "3.9.5"
  }
 },
 "nbformat": 4,
 "nbformat_minor": 5
}
