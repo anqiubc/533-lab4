{
 "cells": [
  {
   "cell_type": "code",
   "execution_count": 1,
   "id": "ada1b94f-2138-4545-8c6f-3ade9e6c5cb5",
   "metadata": {},
   "outputs": [
    {
     "name": "stderr",
     "output_type": "stream",
     "text": [
      "....................."
     ]
    },
    {
     "name": "stdout",
     "output_type": "stream",
     "text": [
      "Setup Children Class\n",
      "Teardown Children Class\n",
      "Setup Customers class\n",
      "Teardown Customers class\n",
      "Setup Employee class\n",
      "Teardown Employee class\n",
      "Setup Room Class\n",
      "Tear Down Room Class\n",
      "Setup Restaurant class\n",
      "Teardown Restaurant class\n",
      "Setup Swimming Pool Class\n",
      "Tear Down Swimming Pool Class\n",
      "<unittest.runner.TextTestResult run=21 errors=0 failures=0>\n"
     ]
    },
    {
     "name": "stderr",
     "output_type": "stream",
     "text": [
      "\n",
      "----------------------------------------------------------------------\n",
      "Ran 21 tests in 0.041s\n",
      "\n",
      "OK\n"
     ]
    }
   ],
   "source": [
    "import unittest\n",
    "from TestModule1 import TestChildren\n",
    "from TestModule2 import TestCustomers\n",
    "from TestModule3 import TestEmployee\n",
    "from TestModule4 import TestRoom\n",
    "from TestModule5 import TestRestaurant\n",
    "from TestModule6 import TestSwimmingPool\n",
    "\n",
    "def my_suite():\n",
    "    suite = unittest.TestSuite()\n",
    "    result = unittest.TestResult()\n",
    "    suite.addTest(unittest.makeSuite(TestChildren))\n",
    "    suite.addTest(unittest.makeSuite(TestCustomers))\n",
    "    suite.addTest(unittest.makeSuite(TestEmployee))\n",
    "    suite.addTest(unittest.makeSuite(TestRoom))\n",
    "    suite.addTest(unittest.makeSuite(TestRestaurant))\n",
    "    suite.addTest(unittest.makeSuite(TestSwimmingPool))\n",
    "    runner = unittest.TextTestRunner()\n",
    "    print(runner.run(suite))\n",
    "my_suite()"
   ]
  },
  {
   "cell_type": "code",
   "execution_count": null,
   "id": "d52c3403-b174-4f0b-9892-bc88fa820516",
   "metadata": {},
   "outputs": [],
   "source": []
  },
  {
   "cell_type": "code",
   "execution_count": null,
   "id": "438ba253-e46d-4bc5-86ac-7c6be4734f22",
   "metadata": {},
   "outputs": [],
   "source": []
  },
  {
   "cell_type": "code",
   "execution_count": null,
   "id": "3c434c16-8501-468c-a441-0eca9e5990b5",
   "metadata": {},
   "outputs": [],
   "source": []
  }
 ],
 "metadata": {
  "kernelspec": {
   "display_name": "Python 3 (ipykernel)",
   "language": "python",
   "name": "python3"
  },
  "language_info": {
   "codemirror_mode": {
    "name": "ipython",
    "version": 3
   },
   "file_extension": ".py",
   "mimetype": "text/x-python",
   "name": "python",
   "nbconvert_exporter": "python",
   "pygments_lexer": "ipython3",
   "version": "3.9.5"
  }
 },
 "nbformat": 4,
 "nbformat_minor": 5
}
